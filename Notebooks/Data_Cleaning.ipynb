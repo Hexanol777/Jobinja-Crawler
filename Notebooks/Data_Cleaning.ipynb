{
 "cells": [
  {
   "cell_type": "markdown",
   "metadata": {},
   "source": [
    "![purple-divider](https://user-images.githubusercontent.com/7065401/52071927-c1cd7100-2562-11e9-908a-dde91ba14e59.png)\n",
    "\n",
    "## Data Extraction - Importing Modules"
   ]
  },
  {
   "cell_type": "code",
   "execution_count": 1,
   "metadata": {},
   "outputs": [],
   "source": [
    "import numpy as np\n",
    "import pandas as pd\n",
    "import matplotlib.pyplot as plt\n",
    "\n",
    "%matplotlib inline"
   ]
  },
  {
   "cell_type": "markdown",
   "metadata": {},
   "source": [
    "![green-divider](https://user-images.githubusercontent.com/7065401/52071924-c003ad80-2562-11e9-8297-1c6595f8a7ff.png)\n",
    "\n",
    "## Loading The Initial Data:"
   ]
  },
  {
   "cell_type": "code",
   "execution_count": 2,
   "metadata": {},
   "outputs": [],
   "source": [
    "Data = pd.read_csv(\n",
    "    'Jobinja - Async.csv',\n",
    "    parse_dates=['Job Position'])"
   ]
  },
  {
   "cell_type": "markdown",
   "metadata": {},
   "source": [
    "![green-divider](https://user-images.githubusercontent.com/7065401/52071924-c003ad80-2562-11e9-8297-1c6595f8a7ff.png)\n",
    "\n",
    "## Data First Look:"
   ]
  },
  {
   "cell_type": "code",
   "execution_count": 3,
   "metadata": {},
   "outputs": [
    {
     "data": {
      "text/html": [
       "<div>\n",
       "<style scoped>\n",
       "    .dataframe tbody tr th:only-of-type {\n",
       "        vertical-align: middle;\n",
       "    }\n",
       "\n",
       "    .dataframe tbody tr th {\n",
       "        vertical-align: top;\n",
       "    }\n",
       "\n",
       "    .dataframe thead th {\n",
       "        text-align: right;\n",
       "    }\n",
       "</style>\n",
       "<table border=\"1\" class=\"dataframe\">\n",
       "  <thead>\n",
       "    <tr style=\"text-align: right;\">\n",
       "      <th></th>\n",
       "      <th>Job Position</th>\n",
       "      <th>Job Category</th>\n",
       "      <th>Job Location</th>\n",
       "      <th>Employment Type</th>\n",
       "      <th>Experience</th>\n",
       "      <th>Salary</th>\n",
       "      <th>Company Name</th>\n",
       "      <th>Company Category</th>\n",
       "      <th>Company Size</th>\n",
       "      <th>Company Website</th>\n",
       "      <th>Skills</th>\n",
       "      <th>Gender</th>\n",
       "      <th>Military Service</th>\n",
       "      <th>Education</th>\n",
       "      <th>Job Description</th>\n",
       "      <th>Job URL</th>\n",
       "    </tr>\n",
       "  </thead>\n",
       "  <tbody>\n",
       "    <tr>\n",
       "      <th>0</th>\n",
       "      <td>استخدام کارشناس بازرگانی خارجی(خانم)</td>\n",
       "      <td>خرید و بازرگانی</td>\n",
       "      <td>تهران</td>\n",
       "      <td>تمام وقت</td>\n",
       "      <td>سه تا شش سال</td>\n",
       "      <td>از ۱۲,۰۰۰,۰۰۰ تومان</td>\n",
       "      <td>نخ ریسان بهشت</td>\n",
       "      <td>واردات و صادرات</td>\n",
       "      <td>۲ - ۱۰ نفر</td>\n",
       "      <td>Www.nakhrisanbehesht.com</td>\n",
       "      <td>بازرگانی خارجی, امور بازرگانی, مکاتبات خارجی</td>\n",
       "      <td>زن</td>\n",
       "      <td>NaN</td>\n",
       "      <td>کارشناسی</td>\n",
       "      <td>ما در شرکت بازرگانی نخ ریسان بهشت فعال در زمین...</td>\n",
       "      <td>https://jobinja.ir/companies/nakhrisanbehesht/...</td>\n",
       "    </tr>\n",
       "    <tr>\n",
       "      <th>1</th>\n",
       "      <td>استخدام مدیر بازاریابی</td>\n",
       "      <td>فروش و بازاریابی</td>\n",
       "      <td>تهران</td>\n",
       "      <td>تمام وقت</td>\n",
       "      <td>بیش از شش سال</td>\n",
       "      <td>توافقی</td>\n",
       "      <td>برگ</td>\n",
       "      <td>تولید و صنایع</td>\n",
       "      <td>۱۱ تا ۵۰ نفر</td>\n",
       "      <td>www.bargco.com</td>\n",
       "      <td>اصول و فنون مذاکره, فروش و بازاریابی, مدیریت ب...</td>\n",
       "      <td>مهم نیست</td>\n",
       "      <td>مهم‌ نیست</td>\n",
       "      <td>کارشناسی</td>\n",
       "      <td>سابقه کار در صنعت برق ، اتوماسیون و ابزار دقیق...</td>\n",
       "      <td>https://jobinja.ir/companies/barg-5/jobs/Cmdp/...</td>\n",
       "    </tr>\n",
       "    <tr>\n",
       "      <th>2</th>\n",
       "      <td>استخدام کارشناس ارشد حسابداری (آقا)</td>\n",
       "      <td>مالی و حسابداری</td>\n",
       "      <td>تهران</td>\n",
       "      <td>تمام وقت</td>\n",
       "      <td>بیش از شش سال</td>\n",
       "      <td>از ۲۰,۰۰۰,۰۰۰ تومان</td>\n",
       "      <td>پتساصنعت</td>\n",
       "      <td>کامپیوتر، فناوری اطلاعات و اینترنت</td>\n",
       "      <td>۱۱ تا ۵۰ نفر</td>\n",
       "      <td>www.patsaind.com</td>\n",
       "      <td>Microsoft Excel, امور مالیاتی, مالی و حسابداری</td>\n",
       "      <td>مرد</td>\n",
       "      <td>معافیت دائم</td>\n",
       "      <td>کارشناسی</td>\n",
       "      <td>شاخصه های تخصصیتسلط به تهیه صورت های مالیتسلط ...</td>\n",
       "      <td>https://jobinja.ir/companies/patsa-industry-1/...</td>\n",
       "    </tr>\n",
       "    <tr>\n",
       "      <th>3</th>\n",
       "      <td>استخدام  برنامه‌نویسNET. (آقا)</td>\n",
       "      <td>وب،‌ برنامه‌نویسی و نرم‌افزار</td>\n",
       "      <td>تهران</td>\n",
       "      <td>تمام وقت</td>\n",
       "      <td>سه تا شش سال</td>\n",
       "      <td>توافقی</td>\n",
       "      <td>دانش رفاه پردیس</td>\n",
       "      <td>کامپیوتر، فناوری اطلاعات و اینترنت</td>\n",
       "      <td>۵۱ تا ۲۰۰ نفر</td>\n",
       "      <td>daneshrefah.ir</td>\n",
       "      <td>Git, .NET, Design Patterns, CSS, HTML</td>\n",
       "      <td>مرد</td>\n",
       "      <td>معافیت دائم</td>\n",
       "      <td>کارشناسی</td>\n",
       "      <td>شرایط احراز:تجربه کاری: حداقل 3 سالتسلط کامل ب...</td>\n",
       "      <td>https://jobinja.ir/companies/danesh-refah-pard...</td>\n",
       "    </tr>\n",
       "    <tr>\n",
       "      <th>4</th>\n",
       "      <td>استخدام کارشناس پشتیبانی فنی نرم‌افزار (دانش ب...</td>\n",
       "      <td>وب،‌ برنامه‌نویسی و نرم‌افزار</td>\n",
       "      <td>تهران</td>\n",
       "      <td>تمام وقت</td>\n",
       "      <td>کمتر از سه سال</td>\n",
       "      <td>توافقی</td>\n",
       "      <td>دانا پرداز</td>\n",
       "      <td>کامپیوتر، فناوری اطلاعات و اینترنت</td>\n",
       "      <td>۵۱ تا ۲۰۰ نفر</td>\n",
       "      <td>www.danapardaz.net</td>\n",
       "      <td>پشتیبانی نرم افزار, پشتیبانی فنی, Sql Server</td>\n",
       "      <td>مهم نیست</td>\n",
       "      <td>مهم‌ نیست</td>\n",
       "      <td>کارشناسی</td>\n",
       "      <td>ما در دانا پرداز برای تقویت تیم پشتیبانی خود ب...</td>\n",
       "      <td>https://jobinja.ir/companies/danapardaz/jobs/C...</td>\n",
       "    </tr>\n",
       "  </tbody>\n",
       "</table>\n",
       "</div>"
      ],
      "text/plain": [
       "                                        Job Position  \\\n",
       "0               استخدام کارشناس بازرگانی خارجی(خانم)   \n",
       "1                             استخدام مدیر بازاریابی   \n",
       "2                استخدام کارشناس ارشد حسابداری (آقا)   \n",
       "3                     استخدام  برنامه‌نویسNET. (آقا)   \n",
       "4  استخدام کارشناس پشتیبانی فنی نرم‌افزار (دانش ب...   \n",
       "\n",
       "                    Job Category Job Location Employment Type      Experience  \\\n",
       "0                خرید و بازرگانی        تهران        تمام وقت    سه تا شش سال   \n",
       "1               فروش و بازاریابی        تهران        تمام وقت   بیش از شش سال   \n",
       "2                مالی و حسابداری        تهران        تمام وقت   بیش از شش سال   \n",
       "3  وب،‌ برنامه‌نویسی و نرم‌افزار        تهران        تمام وقت    سه تا شش سال   \n",
       "4  وب،‌ برنامه‌نویسی و نرم‌افزار        تهران        تمام وقت  کمتر از سه سال   \n",
       "\n",
       "                Salary     Company Name                    Company Category  \\\n",
       "0  از ۱۲,۰۰۰,۰۰۰ تومان    نخ ریسان بهشت                     واردات و صادرات   \n",
       "1               توافقی              برگ                       تولید و صنایع   \n",
       "2  از ۲۰,۰۰۰,۰۰۰ تومان         پتساصنعت  کامپیوتر، فناوری اطلاعات و اینترنت   \n",
       "3               توافقی  دانش رفاه پردیس  کامپیوتر، فناوری اطلاعات و اینترنت   \n",
       "4               توافقی       دانا پرداز  کامپیوتر، فناوری اطلاعات و اینترنت   \n",
       "\n",
       "    Company Size           Company Website  \\\n",
       "0     ۲ - ۱۰ نفر  Www.nakhrisanbehesht.com   \n",
       "1   ۱۱ تا ۵۰ نفر            www.bargco.com   \n",
       "2   ۱۱ تا ۵۰ نفر          www.patsaind.com   \n",
       "3  ۵۱ تا ۲۰۰ نفر            daneshrefah.ir   \n",
       "4  ۵۱ تا ۲۰۰ نفر        www.danapardaz.net   \n",
       "\n",
       "                                              Skills    Gender  \\\n",
       "0       بازرگانی خارجی, امور بازرگانی, مکاتبات خارجی        زن   \n",
       "1  اصول و فنون مذاکره, فروش و بازاریابی, مدیریت ب...  مهم نیست   \n",
       "2     Microsoft Excel, امور مالیاتی, مالی و حسابداری       مرد   \n",
       "3              Git, .NET, Design Patterns, CSS, HTML       مرد   \n",
       "4       پشتیبانی نرم افزار, پشتیبانی فنی, Sql Server  مهم نیست   \n",
       "\n",
       "  Military Service Education  \\\n",
       "0              NaN  کارشناسی   \n",
       "1        مهم‌ نیست  کارشناسی   \n",
       "2      معافیت دائم  کارشناسی   \n",
       "3      معافیت دائم  کارشناسی   \n",
       "4        مهم‌ نیست  کارشناسی   \n",
       "\n",
       "                                     Job Description  \\\n",
       "0  ما در شرکت بازرگانی نخ ریسان بهشت فعال در زمین...   \n",
       "1  سابقه کار در صنعت برق ، اتوماسیون و ابزار دقیق...   \n",
       "2  شاخصه های تخصصیتسلط به تهیه صورت های مالیتسلط ...   \n",
       "3  شرایط احراز:تجربه کاری: حداقل 3 سالتسلط کامل ب...   \n",
       "4  ما در دانا پرداز برای تقویت تیم پشتیبانی خود ب...   \n",
       "\n",
       "                                             Job URL  \n",
       "0  https://jobinja.ir/companies/nakhrisanbehesht/...  \n",
       "1  https://jobinja.ir/companies/barg-5/jobs/Cmdp/...  \n",
       "2  https://jobinja.ir/companies/patsa-industry-1/...  \n",
       "3  https://jobinja.ir/companies/danesh-refah-pard...  \n",
       "4  https://jobinja.ir/companies/danapardaz/jobs/C...  "
      ]
     },
     "execution_count": 3,
     "metadata": {},
     "output_type": "execute_result"
    }
   ],
   "source": [
    "Data.head()"
   ]
  },
  {
   "cell_type": "code",
   "execution_count": 4,
   "metadata": {},
   "outputs": [
    {
     "name": "stdout",
     "output_type": "stream",
     "text": [
      "<class 'pandas.core.frame.DataFrame'>\n",
      "RangeIndex: 26348 entries, 0 to 26347\n",
      "Data columns (total 16 columns):\n",
      " #   Column            Non-Null Count  Dtype \n",
      "---  ------            --------------  ----- \n",
      " 0   Job Position      26348 non-null  object\n",
      " 1   Job Category      26348 non-null  object\n",
      " 2   Job Location      26348 non-null  object\n",
      " 3   Employment Type   26348 non-null  object\n",
      " 4   Experience        26348 non-null  object\n",
      " 5   Salary            26348 non-null  object\n",
      " 6   Company Name      26348 non-null  object\n",
      " 7   Company Category  26261 non-null  object\n",
      " 8   Company Size      26348 non-null  object\n",
      " 9   Company Website   20577 non-null  object\n",
      " 10  Skills            26328 non-null  object\n",
      " 11  Gender            26348 non-null  object\n",
      " 12  Military Service  21310 non-null  object\n",
      " 13  Education         26292 non-null  object\n",
      " 14  Job Description   25076 non-null  object\n",
      " 15  Job URL           26348 non-null  object\n",
      "dtypes: object(16)\n",
      "memory usage: 3.2+ MB\n"
     ]
    }
   ],
   "source": [
    "Data.info()"
   ]
  },
  {
   "cell_type": "markdown",
   "metadata": {},
   "source": [
    "![green-divider](https://user-images.githubusercontent.com/7065401/52071924-c003ad80-2562-11e9-8297-1c6595f8a7ff.png)\n",
    "\n",
    "## Data Cleaning\n"
   ]
  },
  {
   "cell_type": "code",
   "execution_count": 5,
   "metadata": {
    "scrolled": false
   },
   "outputs": [
    {
     "data": {
      "text/plain": [
       "Company Size\n",
       "۱۱ تا ۵۰ نفر                                      10131\n",
       "۵۱ تا ۲۰۰ نفر                                      6145\n",
       "۲ - ۱۰ نفر                                         5416\n",
       "۲۰۱ تا ۵۰۰ نفر                                     2227\n",
       "۵۰۱ تا ۱۰۰۰ نفر                                    1099\n",
       "بیش از ۱۰۰۰ نفر                                    1072\n",
       "یک نفر (من)                                         171\n",
       "کامپیوتر، فناوری اطلاعات و اینترنت                   50\n",
       "رسانه و انتشارات                                     22\n",
       "سرمایه‌گذاری و تحلیل کسب‌وکار                        10\n",
       "خرده‌فروشی، عمده‌فروشی و فروشگاه‌های زنجیره‌ای        3\n",
       "wikidarman.com                                        2\n",
       "dtype: int64"
      ]
     },
     "execution_count": 5,
     "metadata": {},
     "output_type": "execute_result"
    }
   ],
   "source": [
    "Data.value_counts('Company Size')"
   ]
  },
  {
   "cell_type": "code",
   "execution_count": 6,
   "metadata": {},
   "outputs": [],
   "source": [
    "values_to_remove = [\"کامپیوتر، فناوری اطلاعات و اینترنت\", \"رسانه و انتشارات\",\n",
    "                    \"سرمایه‌گذاری و تحلیل کسب‌وکار\"\n",
    "                    , \"خرده‌فروشی، عمده‌فروشی و فروشگاه‌های زنجیره‌ای\", \"wikidarman.com\"]\n",
    "\n",
    "# Remove rows containing the specified values in 'target_column'\n",
    "Data = Data[~Data['Company Size'].isin(values_to_remove)]"
   ]
  },
  {
   "cell_type": "code",
   "execution_count": 7,
   "metadata": {},
   "outputs": [
    {
     "data": {
      "text/plain": [
       "Company Size\n",
       "۱۱ تا ۵۰ نفر       10131\n",
       "۵۱ تا ۲۰۰ نفر       6145\n",
       "۲ - ۱۰ نفر          5416\n",
       "۲۰۱ تا ۵۰۰ نفر      2227\n",
       "۵۰۱ تا ۱۰۰۰ نفر     1099\n",
       "بیش از ۱۰۰۰ نفر     1072\n",
       "یک نفر (من)          171\n",
       "dtype: int64"
      ]
     },
     "execution_count": 7,
     "metadata": {},
     "output_type": "execute_result"
    }
   ],
   "source": [
    "Data.value_counts('Company Size')"
   ]
  },
  {
   "cell_type": "code",
   "execution_count": 8,
   "metadata": {
    "scrolled": false
   },
   "outputs": [
    {
     "data": {
      "text/plain": [
       "Salary\n",
       "توافقی                   17045\n",
       "حقوق پایه (وزارت کار)     1877\n",
       "از ۱۰,۰۰۰,۰۰۰ تومان       1334\n",
       "از ۸,۰۰۰,۰۰۰ تومان        1171\n",
       "از ۱۲,۰۰۰,۰۰۰ تومان        815\n",
       "از ۱۵,۰۰۰,۰۰۰ تومان        718\n",
       "از ۷,۰۰۰,۰۰۰ تومان         709\n",
       "از ۹,۰۰۰,۰۰۰ تومان         594\n",
       "از ۲۰,۰۰۰,۰۰۰ تومان        305\n",
       "از ۱۱,۰۰۰,۰۰۰ تومان        221\n",
       "از ۱۳,۰۰۰,۰۰۰ تومان        198\n",
       "از ۱۴,۰۰۰,۰۰۰ تومان        197\n",
       "از ۱۸,۰۰۰,۰۰۰ تومان        161\n",
       "از ۶,۰۰۰,۰۰۰ تومان         115\n",
       "از ۱۶,۰۰۰,۰۰۰ تومان        115\n",
       "از ۵۰,۰۰۰,۰۰۰ تومان        114\n",
       "از ۳۰,۰۰۰,۰۰۰ تومان         94\n",
       "از ۵,۰۰۰,۰۰۰ تومان          87\n",
       "از ۲۴,۰۰۰,۰۰۰ تومان         77\n",
       "از ۴,۵۰۰,۰۰۰ تومان          61\n",
       "از ۶,۵۰۰,۰۰۰ تومان          60\n",
       "از ۲۶,۰۰۰,۰۰۰ تومان         52\n",
       "از ۳۵,۰۰۰,۰۰۰ تومان         36\n",
       "از ۴۰,۰۰۰,۰۰۰ تومان         32\n",
       "از ۲۲,۰۰۰,۰۰۰ تومان         30\n",
       "از ۵,۵۰۰,۰۰۰ تومان          17\n",
       "از ۲۸,۰۰۰,۰۰۰ تومان         13\n",
       "از ۴۵,۰۰۰,۰۰۰ تومان         11\n",
       "سه تا شش سال                 2\n",
       "dtype: int64"
      ]
     },
     "execution_count": 8,
     "metadata": {},
     "output_type": "execute_result"
    }
   ],
   "source": [
    "Data.value_counts('Salary')"
   ]
  },
  {
   "cell_type": "code",
   "execution_count": 9,
   "metadata": {},
   "outputs": [],
   "source": [
    "values_to_remove = [\"سه تا شش سال\"]\n",
    "\n",
    "Data = Data[~Data['Salary'].isin(values_to_remove)]"
   ]
  },
  {
   "cell_type": "code",
   "execution_count": 10,
   "metadata": {
    "scrolled": false
   },
   "outputs": [
    {
     "data": {
      "text/plain": [
       "Salary\n",
       "توافقی                   17045\n",
       "حقوق پایه (وزارت کار)     1877\n",
       "از ۱۰,۰۰۰,۰۰۰ تومان       1334\n",
       "از ۸,۰۰۰,۰۰۰ تومان        1171\n",
       "از ۱۲,۰۰۰,۰۰۰ تومان        815\n",
       "از ۱۵,۰۰۰,۰۰۰ تومان        718\n",
       "از ۷,۰۰۰,۰۰۰ تومان         709\n",
       "از ۹,۰۰۰,۰۰۰ تومان         594\n",
       "از ۲۰,۰۰۰,۰۰۰ تومان        305\n",
       "از ۱۱,۰۰۰,۰۰۰ تومان        221\n",
       "از ۱۳,۰۰۰,۰۰۰ تومان        198\n",
       "از ۱۴,۰۰۰,۰۰۰ تومان        197\n",
       "از ۱۸,۰۰۰,۰۰۰ تومان        161\n",
       "از ۱۶,۰۰۰,۰۰۰ تومان        115\n",
       "از ۶,۰۰۰,۰۰۰ تومان         115\n",
       "از ۵۰,۰۰۰,۰۰۰ تومان        114\n",
       "از ۳۰,۰۰۰,۰۰۰ تومان         94\n",
       "از ۵,۰۰۰,۰۰۰ تومان          87\n",
       "از ۲۴,۰۰۰,۰۰۰ تومان         77\n",
       "از ۴,۵۰۰,۰۰۰ تومان          61\n",
       "از ۶,۵۰۰,۰۰۰ تومان          60\n",
       "از ۲۶,۰۰۰,۰۰۰ تومان         52\n",
       "از ۳۵,۰۰۰,۰۰۰ تومان         36\n",
       "از ۴۰,۰۰۰,۰۰۰ تومان         32\n",
       "از ۲۲,۰۰۰,۰۰۰ تومان         30\n",
       "از ۵,۵۰۰,۰۰۰ تومان          17\n",
       "از ۲۸,۰۰۰,۰۰۰ تومان         13\n",
       "از ۴۵,۰۰۰,۰۰۰ تومان         11\n",
       "dtype: int64"
      ]
     },
     "execution_count": 10,
     "metadata": {},
     "output_type": "execute_result"
    }
   ],
   "source": [
    "Data.value_counts('Salary')"
   ]
  },
  {
   "cell_type": "code",
   "execution_count": 15,
   "metadata": {
    "scrolled": false
   },
   "outputs": [
    {
     "name": "stdout",
     "output_type": "stream",
     "text": [
      "                                            Job Position  \\\n",
      "0                   استخدام کارشناس بازرگانی خارجی(خانم)   \n",
      "1                                 استخدام مدیر بازاریابی   \n",
      "2                    استخدام کارشناس ارشد حسابداری (آقا)   \n",
      "3                         استخدام  برنامه‌نویسNET. (آقا)   \n",
      "4      استخدام کارشناس پشتیبانی فنی نرم‌افزار (دانش ب...   \n",
      "...                                                  ...   \n",
      "26343                                 استخدام منشی(خانم)   \n",
      "26344                        استخدام کارشناس تولید محتوا   \n",
      "26345                      استخدام کارشناس تحقیق و توسعه   \n",
      "26346                               استخدام کارشناس شبکه   \n",
      "26347                      استخدام مدیر دیجیتال مارکتینگ   \n",
      "\n",
      "                        Job Category Job Location Employment Type  \\\n",
      "0                    خرید و بازرگانی        تهران        تمام وقت   \n",
      "1                   فروش و بازاریابی        تهران        تمام وقت   \n",
      "2                    مالی و حسابداری        تهران        تمام وقت   \n",
      "3      وب،‌ برنامه‌نویسی و نرم‌افزار        تهران        تمام وقت   \n",
      "4      وب،‌ برنامه‌نویسی و نرم‌افزار        تهران        تمام وقت   \n",
      "...                              ...          ...             ...   \n",
      "26343     مسئول دفتر، اجرائی و اداری        تهران        تمام وقت   \n",
      "26344           تولید و مدیریت محتوا        تهران        تمام وقت   \n",
      "26345                  تحقیق و توسعه        تهران        تمام وقت   \n",
      "26346           IT / DevOps / Server        تهران        تمام وقت   \n",
      "26347               دیجیتال مارکتینگ        تهران        تمام وقت   \n",
      "\n",
      "           Experience                 Salary  \\\n",
      "0        سه تا شش سال    از ۱۲,۰۰۰,۰۰۰ تومان   \n",
      "1       بیش از شش سال                 توافقی   \n",
      "2       بیش از شش سال    از ۲۰,۰۰۰,۰۰۰ تومان   \n",
      "3        سه تا شش سال                 توافقی   \n",
      "4      کمتر از سه سال                 توافقی   \n",
      "...               ...                    ...   \n",
      "26343    سه تا شش سال  حقوق پایه (وزارت کار)   \n",
      "26344  کمتر از سه سال                 توافقی   \n",
      "26345  کمتر از سه سال                 توافقی   \n",
      "26346        مهم نیست                 توافقی   \n",
      "26347  کمتر از سه سال    از ۱۱,۰۰۰,۰۰۰ تومان   \n",
      "\n",
      "                           Company Name                    Company Category  \\\n",
      "0                         نخ ریسان بهشت                     واردات و صادرات   \n",
      "1                                   برگ                       تولید و صنایع   \n",
      "2                              پتساصنعت  کامپیوتر، فناوری اطلاعات و اینترنت   \n",
      "3                       دانش رفاه پردیس  کامپیوتر، فناوری اطلاعات و اینترنت   \n",
      "4                            دانا پرداز  کامپیوتر، فناوری اطلاعات و اینترنت   \n",
      "...                                 ...                                 ...   \n",
      "26343                  موسسه دوست اتیسم          سازمان‌های مردم‌نهاد (NGO)   \n",
      "26344                 تولیدی صنعتی مینل                       تولید و صنایع   \n",
      "26345                       آروان فارمد         خدمات درمانی، پزشکی و سلامت   \n",
      "26346        گروه صنایع غذایی شیرین عسل                       تولید و صنایع   \n",
      "26347  آژانس 360 درجه مهاجرتی چهره نگار                       وکالت و حقوقی   \n",
      "\n",
      "          Company Size           Company Website  \\\n",
      "0           ۲ - ۱۰ نفر  Www.nakhrisanbehesht.com   \n",
      "1         ۱۱ تا ۵۰ نفر            www.bargco.com   \n",
      "2         ۱۱ تا ۵۰ نفر          www.patsaind.com   \n",
      "3        ۵۱ تا ۲۰۰ نفر            daneshrefah.ir   \n",
      "4        ۵۱ تا ۲۰۰ نفر        www.danapardaz.net   \n",
      "...                ...                       ...   \n",
      "26343     ۱۱ تا ۵۰ نفر      www.doosteautism.org   \n",
      "26344       ۲ - ۱۰ نفر                        NA   \n",
      "26345     ۱۱ تا ۵۰ نفر      Www.arvanpharmed.com   \n",
      "26346  بیش از ۱۰۰۰ نفر                        NA   \n",
      "26347     ۱۱ تا ۵۰ نفر          finsadvisers.com   \n",
      "\n",
      "                                                  Skills    Gender  \\\n",
      "0           بازرگانی خارجی, امور بازرگانی, مکاتبات خارجی        زن   \n",
      "1      اصول و فنون مذاکره, فروش و بازاریابی, مدیریت ب...  مهم نیست   \n",
      "2         Microsoft Excel, امور مالیاتی, مالی و حسابداری       مرد   \n",
      "3                  Git, .NET, Design Patterns, CSS, HTML       مرد   \n",
      "4           پشتیبانی نرم افزار, پشتیبانی فنی, Sql Server  مهم نیست   \n",
      "...                                                  ...       ...   \n",
      "26343          امور اداری, پیگیری امور, Microsoft Office        زن   \n",
      "26344           تولید محتوا, اصول نگارشی, SEO, Wordpress  مهم نیست   \n",
      "26345        تحقیق و توسعه, نظرسنجی, تجزیه و تحلیل, شیمی  مهم نیست   \n",
      "26346                      شبکه, CCNA, مفاهیم شبکه, MCSE  مهم نیست   \n",
      "26347     دیجیتال مارکتینگ, Google Analytics, Google Ads  مهم نیست   \n",
      "\n",
      "      Military Service      Education  \\\n",
      "0                   NA       کارشناسی   \n",
      "1            مهم‌ نیست       کارشناسی   \n",
      "2          معافیت دائم       کارشناسی   \n",
      "3          معافیت دائم       کارشناسی   \n",
      "4            مهم‌ نیست       کارشناسی   \n",
      "...                ...            ...   \n",
      "26343               NA       کارشناسی   \n",
      "26344        مهم‌ نیست       مهم نیست   \n",
      "26345        مهم‌ نیست  کارشناسی ارشد   \n",
      "26346        مهم‌ نیست       مهم نیست   \n",
      "26347        مهم‌ نیست       مهم نیست   \n",
      "\n",
      "                                         Job Description  \\\n",
      "0      ما در شرکت بازرگانی نخ ریسان بهشت فعال در زمین...   \n",
      "1      سابقه کار در صنعت برق ، اتوماسیون و ابزار دقیق...   \n",
      "2      شاخصه های تخصصیتسلط به تهیه صورت های مالیتسلط ...   \n",
      "3      شرایط احراز:تجربه کاری: حداقل 3 سالتسلط کامل ب...   \n",
      "4      ما در دانا پرداز برای تقویت تیم پشتیبانی خود ب...   \n",
      "...                                                  ...   \n",
      "26343  آشنایی کامل با نرم افزار آفیستسلط به کار با اک...   \n",
      "26344  یک شرکت تولید لوازم خانگی برای تکمیل کادر خود ...   \n",
      "26345  - با تجربه و مهارت کافی- حداقل ۳ سال سابقه کار...   \n",
      "26346  آشنا به مباحث روتر و سوییچ سیسکو و میکروتیکتجر...   \n",
      "26347  - تسلط بر انواع کمپین‌های تبلیغاتی دیجیتال و ت...   \n",
      "\n",
      "                                                 Job URL  \n",
      "0      https://jobinja.ir/companies/nakhrisanbehesht/...  \n",
      "1      https://jobinja.ir/companies/barg-5/jobs/Cmdp/...  \n",
      "2      https://jobinja.ir/companies/patsa-industry-1/...  \n",
      "3      https://jobinja.ir/companies/danesh-refah-pard...  \n",
      "4      https://jobinja.ir/companies/danapardaz/jobs/C...  \n",
      "...                                                  ...  \n",
      "26343  https://jobinja.ir/companies/friend-of-autism-...  \n",
      "26344  https://jobinja.ir/companies/minel/jobs/CZIZ/%...  \n",
      "26345  https://jobinja.ir/companies/arvan-pharmed/job...  \n",
      "26346  https://jobinja.ir/companies/shirinasal-food-i...  \n",
      "26347  https://jobinja.ir/companies/chehre-negar-immi...  \n",
      "\n",
      "[26259 rows x 16 columns]\n"
     ]
    }
   ],
   "source": [
    "def fill_empty_cells_with_na(df):\n",
    "    df_filled = df.apply(lambda x: x.apply(lambda cell: \"NA\" if pd.isna(cell) or cell == \"\" else cell))\n",
    "    return df_filled\n",
    "\n",
    "data_filled = fill_empty_cells_with_na(Data)\n",
    "\n",
    "# Display the DataFrame with empty cells filled with \"NA\"\n",
    "print(data_filled)"
   ]
  },
  {
   "cell_type": "code",
   "execution_count": 18,
   "metadata": {
    "scrolled": true
   },
   "outputs": [
    {
     "name": "stdout",
     "output_type": "stream",
     "text": [
      "Empty DataFrame\n",
      "Columns: [Job Position, Job Category, Job Location, Employment Type, Experience, Salary, Company Name, Company Category, Company Size, Company Website, Skills, Gender, Military Service, Education, Job Description, Job URL]\n",
      "Index: []\n"
     ]
    }
   ],
   "source": [
    "def find_empty_cells(df):\n",
    "    empty_cells = df.isnull() | df.eq('')\n",
    "    rows_with_empty_cells = df[empty_cells.any(axis=1)]\n",
    "    return rows_with_empty_cells\n",
    "\n",
    "rows_with_empty_cells = find_empty_cells(data_filled)\n",
    "print(rows_with_empty_cells)"
   ]
  },
  {
   "cell_type": "code",
   "execution_count": 19,
   "metadata": {},
   "outputs": [],
   "source": [
    "data_filled.to_csv('Jobinja - Processed.csv', index=False, encoding='utf-8-sig')"
   ]
  },
  {
   "cell_type": "markdown",
   "metadata": {},
   "source": [
    "![purple-divider](https://user-images.githubusercontent.com/7065401/52071927-c1cd7100-2562-11e9-908a-dde91ba14e59.png)"
   ]
  }
 ],
 "metadata": {
  "kernelspec": {
   "display_name": "Python 3 (ipykernel)",
   "language": "python",
   "name": "python3"
  },
  "language_info": {
   "codemirror_mode": {
    "name": "ipython",
    "version": 3
   },
   "file_extension": ".py",
   "mimetype": "text/x-python",
   "name": "python",
   "nbconvert_exporter": "python",
   "pygments_lexer": "ipython3",
   "version": "3.11.2"
  }
 },
 "nbformat": 4,
 "nbformat_minor": 4
}
